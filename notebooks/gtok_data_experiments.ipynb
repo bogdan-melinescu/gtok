{
 "cells": [
  {
   "cell_type": "code",
   "execution_count": 11,
   "id": "e15de352-e448-443f-89ea-db8715d6405e",
   "metadata": {
    "scrolled": true
   },
   "outputs": [
    {
     "name": "stdout",
     "output_type": "stream",
     "text": [
      "Ion Pop\n"
     ]
    }
   ],
   "source": [
    "import os\n",
    "import sys\n",
    "\n",
    "# Set the working directory to the project root\n",
    "project_root = \"/Users/bogdanmel/Development/gtok\"\n",
    "os.chdir(project_root)\n",
    "\n",
    "# Add the src directory to the Python path\n",
    "sys.path.append(os.path.join(project_root, \"src\"))\n",
    "\n",
    "import json\n",
    "from farm.farm import *\n",
    "\n",
    "with open(\"local_data/farm_cluj_no1.json\", \"r\", encoding=\"utf-8\") as f:\n",
    "    data = json.load(f)\n",
    "\n",
    "farm = Farm(**data)\n",
    "print(farm.farmer_name)"
   ]
  },
  {
   "cell_type": "code",
   "execution_count": 3,
   "id": "bdcd35bf-93bf-4f89-890f-6f89c27c4f44",
   "metadata": {},
   "outputs": [
    {
     "name": "stdout",
     "output_type": "stream",
     "text": [
      "Weather: overcast clouds\n",
      "Temperature: 20.9°C\n"
     ]
    }
   ],
   "source": [
    "import requests\n",
    "\n",
    "# Replace with your API key\n",
    "API_KEY = \"d5373731e05a6a1d4fd4d3c91b69571d\"\n",
    "\n",
    "# Latitude and longitude for the location\n",
    "lat = 51.5074  # Example: Latitude for London\n",
    "\n",
    "lon = -0.1278  # Example: Longitude for London\n",
    "\n",
    "# API endpoint\n",
    "url = f\"https://api.openweathermap.org/data/2.5/weather?lat={lat}&lon={lon}&appid={API_KEY}&units=metric\"\n",
    "\n",
    "# Make the API request\n",
    "response = requests.get(url)\n",
    "\n",
    "# Check if the request was successful\n",
    "if response.status_code == 200:\n",
    "    data = response.json()\n",
    "    print(f\"Weather: {data['weather'][0]['description']}\")\n",
    "    print(f\"Temperature: {data['main']['temp']}°C\")\n",
    "else:\n",
    "    print(f\"Error: Unable to fetch weather data (Status code: {response.status_code})\")"
   ]
  },
  {
   "cell_type": "code",
   "execution_count": null,
   "id": "21b0736d-bcc9-4420-a9cd-58fa5b835b1b",
   "metadata": {},
   "outputs": [],
   "source": []
  }
 ],
 "metadata": {
  "kernelspec": {
   "display_name": "Python 3 (ipykernel)",
   "language": "python",
   "name": "python3"
  },
  "language_info": {
   "codemirror_mode": {
    "name": "ipython",
    "version": 3
   },
   "file_extension": ".py",
   "mimetype": "text/x-python",
   "name": "python",
   "nbconvert_exporter": "python",
   "pygments_lexer": "ipython3",
   "version": "3.13.3"
  }
 },
 "nbformat": 4,
 "nbformat_minor": 5
}
